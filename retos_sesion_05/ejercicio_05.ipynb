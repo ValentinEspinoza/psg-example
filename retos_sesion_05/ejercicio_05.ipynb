{
 "cells": [
  {
   "cell_type": "markdown",
   "metadata": {},
   "source": [
    "### Función type devuelve el tipo de dato de una variable"
   ]
  },
  {
   "cell_type": "code",
   "execution_count": 1,
   "metadata": {},
   "outputs": [
    {
     "name": "stdout",
     "output_type": "stream",
     "text": [
      "100\n",
      "<class 'int'>\n"
     ]
    }
   ],
   "source": [
    "variable = 100\n",
    "print (variable)\n",
    "print ( type (variable) )\n"
   ]
  },
  {
   "cell_type": "markdown",
   "metadata": {},
   "source": [
    "### Variable de tipo Entero"
   ]
  },
  {
   "cell_type": "code",
   "execution_count": 2,
   "metadata": {},
   "outputs": [
    {
     "name": "stdout",
     "output_type": "stream",
     "text": [
      "20\n",
      "<class 'int'>\n"
     ]
    }
   ],
   "source": [
    "# Variable 20 Entero\n",
    "variable_2 = int (20)\n",
    "print (variable_2)\n",
    "print ( type (variable_2) )"
   ]
  },
  {
   "cell_type": "markdown",
   "metadata": {},
   "source": [
    "### Valores de 10 en base decimal, binaria, octal, hexadecimal"
   ]
  },
  {
   "cell_type": "code",
   "execution_count": 3,
   "metadata": {},
   "outputs": [
    {
     "name": "stdout",
     "output_type": "stream",
     "text": [
      "Base decimal\n",
      "10\n",
      "Base binaria\n",
      "10\n",
      "Base octal\n",
      "10\n",
      "Base hexadecimal\n",
      "10\n"
     ]
    }
   ],
   "source": [
    "# Valor 10 en base decimal\n",
    "print (\"Base decimal\")\n",
    "print (10)\n",
    "# Valor 10 en binario\n",
    "print (\"Base binaria\")\n",
    "print (0b1010)\n",
    "# Valor 10 en octal\n",
    "print (\"Base octal\")\n",
    "print (0o12)\n",
    "# Valor 10 en hexadecimal\n",
    "print (\"Base hexadecimal\")\n",
    "print (0xa)"
   ]
  },
  {
   "cell_type": "markdown",
   "metadata": {},
   "source": [
    "### Dato entero con 60 digitos"
   ]
  },
  {
   "cell_type": "code",
   "execution_count": 4,
   "metadata": {},
   "outputs": [
    {
     "name": "stdout",
     "output_type": "stream",
     "text": [
      "123456789012345678901234567890123456789012345678901234567890\n",
      "<class 'int'>\n"
     ]
    }
   ],
   "source": [
    "# Entero con 60 dígitos\n",
    "variable_3 = 123456789012345678901234567890123456789012345678901234567890\n",
    "print (variable_3)\n",
    "print ( type (variable_3) )"
   ]
  },
  {
   "cell_type": "markdown",
   "metadata": {},
   "source": [
    "### Variable de tipo flotante"
   ]
  },
  {
   "cell_type": "code",
   "execution_count": 7,
   "metadata": {},
   "outputs": [
    {
     "name": "stdout",
     "output_type": "stream",
     "text": [
      "0.5\n",
      "<class 'float'>\n",
      "0.100546\n",
      "<class 'float'>\n",
      "1.0\n",
      "<class 'float'>\n",
      "0.9999999999999999\n",
      "<class 'float'>\n",
      "0.002\n",
      "<class 'float'>\n"
     ]
    }
   ],
   "source": [
    "# Valor 0.5 Flotante\n",
    "print (0.5)\n",
    "print ( type (0.5) )\n",
    "\n",
    "# Variable 0.100546 Flotante\n",
    "variable_4 = 0.100546\n",
    "print (variable_4)\n",
    "print ( type (variable_4) )\n",
    "\n",
    "# Variable 1 Flotante\n",
    "variable_7 = float (1)\n",
    "print(variable_7)\n",
    "print ( type (variable_7) )\n",
    "\n",
    "# Precisión de 17 decimales\n",
    "variable_5 = 0.9999999999999999\n",
    "print(variable_5)\n",
    "print ( type (variable_5) )\n",
    "\n",
    "# Valor 2.0e-3 Flotante\n",
    "variable_6 = 2.0e-3\n",
    "print(variable_6)\n",
    "print ( type (variable_6) )\n"
   ]
  },
  {
   "cell_type": "markdown",
   "metadata": {},
   "source": [
    "### Operadores Aritméticos"
   ]
  },
  {
   "cell_type": "code",
   "execution_count": 8,
   "metadata": {},
   "outputs": [
    {
     "name": "stdout",
     "output_type": "stream",
     "text": [
      "Suma\n",
      "13\n",
      "División\n",
      "3.3333333333333335\n",
      "Potencia\n",
      "1000\n",
      "Módulo o residuo\n",
      "1\n",
      "División entera\n",
      "3\n"
     ]
    }
   ],
   "source": [
    "# Operadores aritméticos\n",
    "a = 10\n",
    "b = 3\n",
    "# Suma\n",
    "print (\"Suma\")\n",
    "print (a + b)\n",
    "\n",
    "print (\"División\")\n",
    "print (a / b)\n",
    "\n",
    "# Potencia\n",
    "print (\"Potencia\")\n",
    "print (a ** b)\n",
    "\n",
    "# Módulo o residuo\n",
    "print (\"Módulo o residuo\")\n",
    "print (a % b)\n",
    "\n",
    "print (\"División entera\")\n",
    "print (a // b)"
   ]
  },
  {
   "cell_type": "markdown",
   "metadata": {},
   "source": [
    "### Ejercicio: 1"
   ]
  },
  {
   "cell_type": "code",
   "execution_count": 9,
   "metadata": {},
   "outputs": [
    {
     "name": "stdout",
     "output_type": "stream",
     "text": [
      "6.0\n",
      "6.0\n"
     ]
    }
   ],
   "source": [
    "#Un contador tiene 300 minutos y se le suman 3600 segundos, ¿Cuántas horas en total son?\n",
    "print(300/60 + 3600/60/60)\n",
    "\n",
    "minutos = 300\n",
    "tiempo_extra_segundos = 3600\n",
    "horas = (minutos + tiempo_extra_segundos / 60) / 60\n",
    "print (horas)"
   ]
  },
  {
   "cell_type": "markdown",
   "metadata": {},
   "source": [
    "### Ejercicio: 2"
   ]
  },
  {
   "cell_type": "code",
   "execution_count": 11,
   "metadata": {},
   "outputs": [
    {
     "name": "stdout",
     "output_type": "stream",
     "text": [
      "True\n",
      "False\n",
      "True\n"
     ]
    }
   ],
   "source": [
    "# Es Numero par\n",
    "num_1 = 10\n",
    "num_2 = 5\n",
    "\n",
    "print(num_1 % num_2 == 0)\n",
    "\n",
    "numero_1 = 10\n",
    "numero_2 = 5\n",
    "print ((numero_1 / 2)% 2 == 0)\n",
    "print ((numero_1 / 2)% 2 == 1)"
   ]
  }
 ],
 "metadata": {
  "kernelspec": {
   "display_name": "Python 3",
   "language": "python",
   "name": "python3"
  },
  "language_info": {
   "codemirror_mode": {
    "name": "ipython",
    "version": 3
   },
   "file_extension": ".py",
   "mimetype": "text/x-python",
   "name": "python",
   "nbconvert_exporter": "python",
   "pygments_lexer": "ipython3",
   "version": "3.12.3"
  }
 },
 "nbformat": 4,
 "nbformat_minor": 2
}
