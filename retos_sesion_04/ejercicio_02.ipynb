{
 "cells": [
  {
   "cell_type": "markdown",
   "metadata": {},
   "source": [
    "## Crea un archivo \"ejercicio_02.ipynb\", añade un texto markdown\n",
    "## Crea una imagen utilizando símbolos y prints"
   ]
  },
  {
   "cell_type": "code",
   "execution_count": 17,
   "metadata": {},
   "outputs": [
    {
     "name": "stdout",
     "output_type": "stream",
     "text": [
      "(\\__/)   (\\__/)   (\\__/)   (\\__/)\n",
      "(>'.'<)  (•'.'•)  (^'.'^)  (o'.'o)\n",
      "(\")_(\")  (\")_(\")  (\")_(\")  (\")_(\")\n"
     ]
    }
   ],
   "source": [
    "print (\"(\\\\__/)   (\\\\__/)   (\\\\__/)   (\\\\__/)\")\n",
    "print (\"(>'.'<)  (•'.'•)  (^'.'^)  (o'.'o)\") \n",
    "print (\"(\\\")_(\\\")  (\\\")_(\\\")  (\\\")_(\\\")  (\\\")_(\\\")\")"
   ]
  }
 ],
 "metadata": {
  "kernelspec": {
   "display_name": "Python 3",
   "language": "python",
   "name": "python3"
  },
  "language_info": {
   "codemirror_mode": {
    "name": "ipython",
    "version": 3
   },
   "file_extension": ".py",
   "mimetype": "text/x-python",
   "name": "python",
   "nbconvert_exporter": "python",
   "pygments_lexer": "ipython3",
   "version": "3.12.3"
  }
 },
 "nbformat": 4,
 "nbformat_minor": 2
}
